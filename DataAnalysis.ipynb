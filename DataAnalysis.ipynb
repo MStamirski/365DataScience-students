{
  "nbformat": 4,
  "nbformat_minor": 0,
  "metadata": {
    "colab": {
      "provenance": [],
      "toc_visible": true,
      "authorship_tag": "ABX9TyO0+bvSnZ/Ub135kSLX4z1u",
      "include_colab_link": true
    },
    "kernelspec": {
      "name": "python3",
      "display_name": "Python 3"
    },
    "language_info": {
      "name": "python"
    }
  },
  "cells": [
    {
      "cell_type": "markdown",
      "metadata": {
        "id": "view-in-github",
        "colab_type": "text"
      },
      "source": [
        "<a href=\"https://colab.research.google.com/github/MStamirski/365DataScience-students/blob/main/DataAnalysis.ipynb\" target=\"_parent\"><img src=\"https://colab.research.google.com/assets/colab-badge.svg\" alt=\"Open In Colab\"/></a>"
      ]
    },
    {
      "cell_type": "markdown",
      "source": [
        "# Preparation"
      ],
      "metadata": {
        "id": "kNJaYV76MfZ5"
      }
    },
    {
      "cell_type": "code",
      "execution_count": null,
      "metadata": {
        "colab": {
          "base_uri": "https://localhost:8080/"
        },
        "id": "unCTllUEgqPe",
        "outputId": "fb0ce54f-6972-4839-cf40-08386b75e3e2"
      },
      "outputs": [
        {
          "output_type": "stream",
          "name": "stdout",
          "text": [
            "Mounted at /content/drive\n"
          ]
        }
      ],
      "source": [
        "from google.colab import drive\n",
        "drive.mount(\"/content/drive\")\n",
        "path = \"drive/MyDrive/Colab_Notebooks/365Challenge/data/\""
      ]
    },
    {
      "cell_type": "code",
      "source": [
        "import pandas as pd\n",
        "import matplotlib.pyplot as plt\n",
        "import numpy as np"
      ],
      "metadata": {
        "id": "LZbD4M1Ig6HB"
      },
      "execution_count": null,
      "outputs": []
    },
    {
      "cell_type": "code",
      "source": [
        "filenames = ['365_course_info', '365_course_ratings', '365_exam_info', '365_quiz_info', '365_student_engagement', '365_student_exams', '365_student_hub_questions', '365_student_info', '365_student_learning', '365_student_purchases', '365_student_quizzes']"
      ],
      "metadata": {
        "id": "hJSd8DlaobAf"
      },
      "execution_count": null,
      "outputs": []
    },
    {
      "cell_type": "code",
      "source": [
        "def read_data(filename):\n",
        "  df = pd.read_csv(path+filename+\".csv\")\n",
        "  for col in df.columns:\n",
        "    if 'date' in col:\n",
        "      df[col] = pd.to_datetime(df[col], format='%Y-%m-%d')\n",
        "  return df"
      ],
      "metadata": {
        "id": "ex_ydqMRpXZ2"
      },
      "execution_count": null,
      "outputs": []
    },
    {
      "cell_type": "code",
      "source": [
        "def show_data(filename, file):\n",
        "  print(\"============= File: \"+filename+\" =============\\n\")\n",
        "  print(\"\\n------------- sample ----------------\")\n",
        "  print(file.sample(3))\n",
        "  print(\"\\n------------- info ------------------\")\n",
        "  print(file.info())\n",
        "  print(\"\\n------------- describe --------------\")\n",
        "  print(file.describe(include='all', datetime_is_numeric=True))\n",
        "  print(\"\\n\\n\")"
      ],
      "metadata": {
        "id": "4AeKakX8qNyF"
      },
      "execution_count": null,
      "outputs": []
    },
    {
      "cell_type": "code",
      "source": [
        "def histogram(dataframe,column):\n",
        "  fig,ax=plt.subplots()\n",
        "  ax.hist(dataframe[column],label=column,bins=20)\n",
        "  ax.set_xlabel(column)\n",
        "  ax.set_ylabel('Number of observations')\n",
        "  plt.show()\n",
        "\n",
        "def centiles_graph(dataframe, column, first,last):\n",
        "  centiles=[np.quantile(dataframe[column],q/100) for q in range(first,last+1)]\n",
        "  fig, ax = plt.subplots()\n",
        "  ax.bar(range(first,last+1),centiles)\n",
        "  plt.show()\n",
        "\n",
        "def violin(dataframe, column):\n",
        "  fig,ax=plt.subplots()\n",
        "  ax.violinplot(dataframe[column])\n",
        "  ax.set_xlabel(column)\n",
        "  ax.set_ylabel('Number of observations')\n",
        "  plt.show()\n",
        "\n",
        "def describe(dataframe, column):\n",
        "  print(dataframe[column].describe(datetime_is_numeric=True))\n",
        "  print(\"Nulls\",pd.isna(dataframe[column]).sum())\n",
        "  print(\"Zeros\", len(dataframe[dataframe[column]==0]))\n",
        "  if dataframe[column].dtype != 'datetime64[ns]' and dataframe[column].dtype != 'object':\n",
        "    print(\"Negatives\", len(dataframe[dataframe[column]<0]))\n",
        "\n",
        "def features_plot(dataframe, col):\n",
        "  print(dataframe[col].value_counts())\n",
        "  describe(dataframe, col)\n",
        "  histogram(dataframe, col)\n",
        "  if dataframe[col].dtype != 'datetime64[ns]' and dataframe[col].dtype != 'object':\n",
        "    centiles_graph(dataframe,col,1,100)\n",
        "    violin(dataframe, col)"
      ],
      "metadata": {
        "id": "s_6QiAlZh0-i"
      },
      "execution_count": null,
      "outputs": []
    },
    {
      "cell_type": "code",
      "source": [],
      "metadata": {
        "id": "pzopgmuv-T5G"
      },
      "execution_count": null,
      "outputs": []
    },
    {
      "cell_type": "markdown",
      "source": [
        "# course_info"
      ],
      "metadata": {
        "id": "SRasfGqD-U0_"
      }
    },
    {
      "cell_type": "code",
      "source": [
        "course_info = read_data(filenames[0])\n",
        "show_data(filenames[0], course_info)"
      ],
      "metadata": {
        "colab": {
          "base_uri": "https://localhost:8080/"
        },
        "id": "rF1Zp1tZsx-V",
        "outputId": "ae86649f-13ce-4374-cf46-48a50e98be54"
      },
      "execution_count": null,
      "outputs": [
        {
          "output_type": "stream",
          "name": "stdout",
          "text": [
            "============= File: 365_course_info =============\n",
            "\n",
            "\n",
            "------------- sample ----------------\n",
            "    course_id                              course_title\n",
            "21         29  Product Management for AI & Data Science\n",
            "31         42                             Data Strategy\n",
            "0           2                   Introduction to Tableau\n",
            "\n",
            "------------- info ------------------\n",
            "<class 'pandas.core.frame.DataFrame'>\n",
            "RangeIndex: 46 entries, 0 to 45\n",
            "Data columns (total 2 columns):\n",
            " #   Column        Non-Null Count  Dtype \n",
            "---  ------        --------------  ----- \n",
            " 0   course_id     46 non-null     int64 \n",
            " 1   course_title  46 non-null     object\n",
            "dtypes: int64(1), object(1)\n",
            "memory usage: 864.0+ bytes\n",
            "None\n",
            "\n",
            "------------- describe --------------\n",
            "        course_id             course_title\n",
            "count   46.000000                       46\n",
            "unique        NaN                       46\n",
            "top           NaN  Introduction to Tableau\n",
            "freq          NaN                        1\n",
            "mean    31.043478                      NaN\n",
            "std     16.279444                      NaN\n",
            "min      2.000000                      NaN\n",
            "25%     19.250000                      NaN\n",
            "50%     31.000000                      NaN\n",
            "75%     44.750000                      NaN\n",
            "max     57.000000                      NaN\n",
            "\n",
            "\n",
            "\n"
          ]
        }
      ]
    },
    {
      "cell_type": "markdown",
      "source": [
        "46 different courses, only id will be needed, clean data"
      ],
      "metadata": {
        "id": "YKhtTwQM96q2"
      }
    },
    {
      "cell_type": "markdown",
      "source": [
        "# course_ratings"
      ],
      "metadata": {
        "id": "hcyNOQzG-gpu"
      }
    },
    {
      "cell_type": "code",
      "source": [
        "course_ratings = read_data(filenames[1])\n",
        "show_data(filenames[1], course_ratings)"
      ],
      "metadata": {
        "colab": {
          "base_uri": "https://localhost:8080/"
        },
        "id": "WWC-2cCNkOBx",
        "outputId": "3e465024-9d58-4d54-909c-908ede590c69"
      },
      "execution_count": null,
      "outputs": [
        {
          "output_type": "stream",
          "name": "stdout",
          "text": [
            "============= File: 365_course_ratings =============\n",
            "\n",
            "\n",
            "------------- sample ----------------\n",
            "      course_id  student_id  course_rating date_rated\n",
            "529          28      272965              4 2022-06-29\n",
            "2468         16      295127              4 2022-10-18\n",
            "353          28      268926              3 2022-06-28\n",
            "\n",
            "------------- info ------------------\n",
            "<class 'pandas.core.frame.DataFrame'>\n",
            "RangeIndex: 2500 entries, 0 to 2499\n",
            "Data columns (total 4 columns):\n",
            " #   Column         Non-Null Count  Dtype         \n",
            "---  ------         --------------  -----         \n",
            " 0   course_id      2500 non-null   int64         \n",
            " 1   student_id     2500 non-null   int64         \n",
            " 2   course_rating  2500 non-null   int64         \n",
            " 3   date_rated     2500 non-null   datetime64[ns]\n",
            "dtypes: datetime64[ns](1), int64(3)\n",
            "memory usage: 78.2 KB\n",
            "None\n",
            "\n",
            "------------- describe --------------\n",
            "         course_id     student_id  course_rating  \\\n",
            "count  2500.000000    2500.000000    2500.000000   \n",
            "mean     21.366800  280321.621200       4.794400   \n",
            "min       2.000000  258956.000000       1.000000   \n",
            "25%       7.000000  275045.000000       5.000000   \n",
            "50%      21.000000  281885.000000       5.000000   \n",
            "75%      30.000000  286576.000000       5.000000   \n",
            "max      57.000000  295466.000000       5.000000   \n",
            "std      13.565997    9103.373208       0.528621   \n",
            "\n",
            "                          date_rated  \n",
            "count                           2500  \n",
            "mean   2022-08-21 11:53:05.279999744  \n",
            "min              2022-06-16 00:00:00  \n",
            "25%              2022-07-26 00:00:00  \n",
            "50%              2022-08-17 00:00:00  \n",
            "75%              2022-09-24 00:00:00  \n",
            "max              2022-10-20 00:00:00  \n",
            "std                              NaN  \n",
            "\n",
            "\n",
            "\n"
          ]
        }
      ]
    },
    {
      "cell_type": "code",
      "source": [
        "features_plot(course_ratings, 'course_rating')"
      ],
      "metadata": {
        "colab": {
          "base_uri": "https://localhost:8080/",
          "height": 1000
        },
        "id": "J3CgSpqWkn8I",
        "outputId": "46805424-ad79-48fd-da8f-f41fa8be61ac"
      },
      "execution_count": null,
      "outputs": [
        {
          "output_type": "stream",
          "name": "stdout",
          "text": [
            "5    2097\n",
            "4     321\n",
            "3      58\n",
            "2      19\n",
            "1       5\n",
            "Name: course_rating, dtype: int64\n",
            "count    2500.000000\n",
            "mean        4.794400\n",
            "std         0.528621\n",
            "min         1.000000\n",
            "25%         5.000000\n",
            "50%         5.000000\n",
            "75%         5.000000\n",
            "max         5.000000\n",
            "Name: course_rating, dtype: float64\n",
            "Nulls 0\n",
            "Zeros 0\n",
            "Negatives 0\n"
          ]
        },
        {
          "output_type": "display_data",
          "data": {
            "text/plain": [
              "<Figure size 432x288 with 1 Axes>"
            ],
            "image/png": "[encoded data removed]"
          },
          "metadata": {
            "needs_background": "light"
          }
        },
        {
          "output_type": "display_data",
          "data": {
            "text/plain": [
              "<Figure size 432x288 with 1 Axes>"
            ],
            "image/png": "[encoded data removed]"
          },
          "metadata": {
            "needs_background": "light"
          }
        },
        {
          "output_type": "display_data",
          "data": {
            "text/plain": [
              "<Figure size 432x288 with 1 Axes>"
            ],
            "image/png": "[encoded data removed]"
          },
          "metadata": {
            "needs_background": "light"
          }
        }
      ]
    },
    {
      "cell_type": "code",
      "source": [
        "features_plot(course_ratings, 'date_rated')"
      ],
      "metadata": {
        "colab": {
          "base_uri": "https://localhost:8080/",
          "height": 662
        },
        "id": "xtlN16ZDlIJg",
        "outputId": "6116df9f-a2a1-4697-b834-676642c1985d"
      },
      "execution_count": null,
      "outputs": [
        {
          "output_type": "stream",
          "name": "stdout",
          "text": [
            "2022-08-17    134\n",
            "2022-08-15     92\n",
            "2022-08-16     91\n",
            "2022-08-18     60\n",
            "2022-10-18     45\n",
            "             ... \n",
            "2022-09-12      9\n",
            "2022-06-25      8\n",
            "2022-07-01      8\n",
            "2022-08-27      7\n",
            "2022-09-05      7\n",
            "Name: date_rated, Length: 127, dtype: int64\n",
            "count                             2500\n",
            "mean     2022-08-21 11:53:05.279999744\n",
            "min                2022-06-16 00:00:00\n",
            "25%                2022-07-26 00:00:00\n",
            "50%                2022-08-17 00:00:00\n",
            "75%                2022-09-24 00:00:00\n",
            "max                2022-10-20 00:00:00\n",
            "Name: date_rated, dtype: object\n",
            "Nulls 0\n",
            "Zeros 0\n"
          ]
        },
        {
          "output_type": "display_data",
          "data": {
            "text/plain": [
              "<Figure size 432x288 with 1 Axes>"
            ],
            "image/png": "[encoded data removed]"
          },
          "metadata": {
            "needs_background": "light"
          }
        }
      ]
    },
    {
      "cell_type": "markdown",
      "source": [
        "2500 entries, useful features: course_rating and date_rated, total rating for each course can be calculated, also rating of single user, clean data"
      ],
      "metadata": {
        "id": "BGfcofcZ9e6e"
      }
    },
    {
      "cell_type": "markdown",
      "source": [
        "# exam_info"
      ],
      "metadata": {
        "id": "Jp_sp42k_2lu"
      }
    },
    {
      "cell_type": "code",
      "source": [
        "exam_info = read_data(filenames[2])\n",
        "show_data(filenames[2], exam_info)"
      ],
      "metadata": {
        "colab": {
          "base_uri": "https://localhost:8080/"
        },
        "id": "6v-UvQ93wdTM",
        "outputId": "2caea0a5-e4f3-419a-cf7b-2f1f6f43ca29"
      },
      "execution_count": null,
      "outputs": [
        {
          "output_type": "stream",
          "name": "stdout",
          "text": [
            "============= File: 365_exam_info =============\n",
            "\n",
            "\n",
            "------------- sample ----------------\n",
            "     exam_id  exam_category  exam_duration\n",
            "6        312              2             30\n",
            "150      829              2             25\n",
            "60       653              2             10\n",
            "\n",
            "------------- info ------------------\n",
            "<class 'pandas.core.frame.DataFrame'>\n",
            "RangeIndex: 156 entries, 0 to 155\n",
            "Data columns (total 3 columns):\n",
            " #   Column         Non-Null Count  Dtype\n",
            "---  ------         --------------  -----\n",
            " 0   exam_id        156 non-null    int64\n",
            " 1   exam_category  156 non-null    int64\n",
            " 2   exam_duration  156 non-null    int64\n",
            "dtypes: int64(3)\n",
            "memory usage: 3.8 KB\n",
            "None\n",
            "\n",
            "------------- describe --------------\n",
            "          exam_id  exam_category  exam_duration\n",
            "count  156.000000     156.000000     156.000000\n",
            "mean   643.384615       1.814103      30.737179\n",
            "std    170.771096       0.707604      29.549327\n",
            "min    118.000000       1.000000       5.000000\n",
            "25%    542.750000       1.000000      13.500000\n",
            "50%    696.500000       2.000000      20.000000\n",
            "75%    785.250000       2.000000      31.250000\n",
            "max    834.000000       4.000000     130.000000\n",
            "\n",
            "\n",
            "\n"
          ]
        }
      ]
    },
    {
      "cell_type": "code",
      "source": [
        "features_plot(exam_info, 'exam_category')"
      ],
      "metadata": {
        "colab": {
          "base_uri": "https://localhost:8080/",
          "height": 1000
        },
        "id": "h2J0sv1kwsoC",
        "outputId": "d6912b5d-a5fc-413e-ba95-4723df40140d"
      },
      "execution_count": null,
      "outputs": [
        {
          "output_type": "stream",
          "name": "stdout",
          "text": [
            "2    100\n",
            "1     47\n",
            "4      9\n",
            "Name: exam_category, dtype: int64\n",
            "count    156.000000\n",
            "mean       1.814103\n",
            "std        0.707604\n",
            "min        1.000000\n",
            "25%        1.000000\n",
            "50%        2.000000\n",
            "75%        2.000000\n",
            "max        4.000000\n",
            "Name: exam_category, dtype: float64\n",
            "Nulls 0\n",
            "Zeros 0\n",
            "Negatives 0\n"
          ]
        },
        {
          "output_type": "display_data",
          "data": {
            "text/plain": [
              "<Figure size 432x288 with 1 Axes>"
            ],
            "image/png": "[encoded data removed]"
          },
          "metadata": {
            "needs_background": "light"
          }
        },
        {
          "output_type": "display_data",
          "data": {
            "text/plain": [
              "<Figure size 432x288 with 1 Axes>"
            ],
            "image/png": "[encoded data removed]"
          },
          "metadata": {
            "needs_background": "light"
          }
        },
        {
          "output_type": "display_data",
          "data": {
            "text/plain": [
              "<Figure size 432x288 with 1 Axes>"
            ],
            "image/png": "[encoded data removed]"
          },
          "metadata": {
            "needs_background": "light"
          }
        }
      ]
    },
    {
      "cell_type": "code",
      "source": [
        "features_plot(exam_info, 'exam_duration')"
      ],
      "metadata": {
        "colab": {
          "base_uri": "https://localhost:8080/",
          "height": 1000
        },
        "id": "Tcy5fQ_TxAXD",
        "outputId": "a7d5c5ce-9224-4de0-f714-cf17e6b3c1a5"
      },
      "execution_count": null,
      "outputs": [
        {
          "output_type": "stream",
          "name": "stdout",
          "text": [
            "20     19\n",
            "15     14\n",
            "25     14\n",
            "10     14\n",
            "12     11\n",
            "30     11\n",
            "14      7\n",
            "16      7\n",
            "8       6\n",
            "45      5\n",
            "18      4\n",
            "40      4\n",
            "35      4\n",
            "130     4\n",
            "5       3\n",
            "120     3\n",
            "6       3\n",
            "50      3\n",
            "75      3\n",
            "110     2\n",
            "65      2\n",
            "9       2\n",
            "70      2\n",
            "26      2\n",
            "80      2\n",
            "90      1\n",
            "60      1\n",
            "85      1\n",
            "55      1\n",
            "100     1\n",
            "Name: exam_duration, dtype: int64\n",
            "count    156.000000\n",
            "mean      30.737179\n",
            "std       29.549327\n",
            "min        5.000000\n",
            "25%       13.500000\n",
            "50%       20.000000\n",
            "75%       31.250000\n",
            "max      130.000000\n",
            "Name: exam_duration, dtype: float64\n",
            "Nulls 0\n",
            "Zeros 0\n",
            "Negatives 0\n"
          ]
        },
        {
          "output_type": "display_data",
          "data": {
            "text/plain": [
              "<Figure size 432x288 with 1 Axes>"
            ],
            "image/png": "[encoded data removed]"
          },
          "metadata": {
            "needs_background": "light"
          }
        },
        {
          "output_type": "display_data",
          "data": {
            "text/plain": [
              "<Figure size 432x288 with 1 Axes>"
            ],
            "image/png": "[encoded data removed]"
          },
          "metadata": {
            "needs_background": "light"
          }
        },
        {
          "output_type": "display_data",
          "data": {
            "text/plain": [
              "<Figure size 432x288 with 1 Axes>"
            ],
            "image/png": "[encoded data removed]"
          },
          "metadata": {
            "needs_background": "light"
          }
        }
      ]
    },
    {
      "cell_type": "markdown",
      "source": [
        "156 entries, useful features: exam_duration (right-side skewness) and exam_category (3 of them, type 2 is a mode), clean data"
      ],
      "metadata": {
        "id": "TkvTStqxAwv0"
      }
    },
    {
      "cell_type": "markdown",
      "source": [
        "# quiz_info"
      ],
      "metadata": {
        "id": "dwkUbUbuCPN0"
      }
    },
    {
      "cell_type": "code",
      "source": [
        "quiz_info = read_data(filenames[3])\n",
        "show_data(filenames[3], quiz_info)"
      ],
      "metadata": {
        "colab": {
          "base_uri": "https://localhost:8080/"
        },
        "id": "j_GoNZqCyZrS",
        "outputId": "95fec211-04de-4da4-b0ad-f69ca77fc711"
      },
      "execution_count": null,
      "outputs": [
        {
          "output_type": "stream",
          "name": "stdout",
          "text": [
            "============= File: 365_quiz_info =============\n",
            "\n",
            "\n",
            "------------- sample ----------------\n",
            "      quiz_id  question_id  answer_id answer_correct\n",
            "112        25           28        113              y\n",
            "2458      423          633       2459              y\n",
            "3493      345          889       3510              n\n",
            "\n",
            "------------- info ------------------\n",
            "<class 'pandas.core.frame.DataFrame'>\n",
            "RangeIndex: 4741 entries, 0 to 4740\n",
            "Data columns (total 4 columns):\n",
            " #   Column          Non-Null Count  Dtype \n",
            "---  ------          --------------  ----- \n",
            " 0   quiz_id         4741 non-null   int64 \n",
            " 1   question_id     4741 non-null   int64 \n",
            " 2   answer_id       4741 non-null   int64 \n",
            " 3   answer_correct  4741 non-null   object\n",
            "dtypes: int64(3), object(1)\n",
            "memory usage: 148.3+ KB\n",
            "None\n",
            "\n",
            "------------- describe --------------\n",
            "            quiz_id  question_id    answer_id answer_correct\n",
            "count   4741.000000  4741.000000  4741.000000           4741\n",
            "unique          NaN          NaN          NaN              2\n",
            "top             NaN          NaN          NaN              n\n",
            "freq            NaN          NaN          NaN           3528\n",
            "mean     299.528159   604.499051  2377.186037            NaN\n",
            "std      149.553830   355.507026  1375.330647            NaN\n",
            "min        1.000000     1.000000     1.000000            NaN\n",
            "25%      201.000000   297.000000  1186.000000            NaN\n",
            "50%      294.000000   606.000000  2371.000000            NaN\n",
            "75%      414.000000   905.000000  3572.000000            NaN\n",
            "max      580.000000  1258.000000  4757.000000            NaN\n",
            "\n",
            "\n",
            "\n"
          ]
        }
      ]
    },
    {
      "cell_type": "markdown",
      "source": [
        "dataset needed only to calculate student results, clean data"
      ],
      "metadata": {
        "id": "5aykSjI8C5t0"
      }
    },
    {
      "cell_type": "markdown",
      "source": [
        "# student_engagement"
      ],
      "metadata": {
        "id": "1jYjfsKgDS8U"
      }
    },
    {
      "cell_type": "code",
      "source": [
        "student_engagement = read_data(filenames[4])\n",
        "show_data(filenames[4], student_engagement)"
      ],
      "metadata": {
        "colab": {
          "base_uri": "https://localhost:8080/"
        },
        "id": "AwDpKx8Zyn00",
        "outputId": "8ca276ea-d3c7-4854-cc9f-adadc0b25b3a"
      },
      "execution_count": null,
      "outputs": [
        {
          "output_type": "stream",
          "name": "stdout",
          "text": [
            "============= File: 365_student_engagement =============\n",
            "\n",
            "\n",
            "------------- sample ----------------\n",
            "       engagement_id  student_id  engagement_quizzes  engagement_exams  \\\n",
            "3832          114720      263393                   1                 0   \n",
            "9659          167110      259429                   0                 1   \n",
            "35411         987203      268287                   0                 0   \n",
            "\n",
            "       engagement_lessons date_engaged  \n",
            "3832                    1   2022-02-14  \n",
            "9659                    1   2022-03-31  \n",
            "35411                   1   2022-07-12  \n",
            "\n",
            "------------- info ------------------\n",
            "<class 'pandas.core.frame.DataFrame'>\n",
            "RangeIndex: 65371 entries, 0 to 65370\n",
            "Data columns (total 6 columns):\n",
            " #   Column              Non-Null Count  Dtype         \n",
            "---  ------              --------------  -----         \n",
            " 0   engagement_id       65371 non-null  int64         \n",
            " 1   student_id          65371 non-null  int64         \n",
            " 2   engagement_quizzes  65371 non-null  int64         \n",
            " 3   engagement_exams    65371 non-null  int64         \n",
            " 4   engagement_lessons  65371 non-null  int64         \n",
            " 5   date_engaged        65371 non-null  datetime64[ns]\n",
            "dtypes: datetime64[ns](1), int64(5)\n",
            "memory usage: 3.0 MB\n",
            "None\n",
            "\n",
            "------------- describe --------------\n",
            "       engagement_id     student_id  engagement_quizzes  engagement_exams  \\\n",
            "count   6.537100e+04   65371.000000        65371.000000      65371.000000   \n",
            "mean    1.065524e+06  273922.744872            0.355280          0.218721   \n",
            "min     1.000000e+00  258798.000000            0.000000          0.000000   \n",
            "25%     3.828845e+05  264696.000000            0.000000          0.000000   \n",
            "50%     8.329990e+05  272586.000000            0.000000          0.000000   \n",
            "75%     1.852912e+06  282318.000000            1.000000          0.000000   \n",
            "max     2.649873e+06  295513.000000            1.000000          1.000000   \n",
            "std     8.290390e+05   10279.378543            0.478602          0.413382   \n",
            "\n",
            "       engagement_lessons                   date_engaged  \n",
            "count        65371.000000                          65371  \n",
            "mean             0.986691  2022-06-18 22:22:39.465206272  \n",
            "min              0.000000            2022-01-01 00:00:00  \n",
            "25%              1.000000            2022-04-10 00:00:00  \n",
            "50%              1.000000            2022-06-29 00:00:00  \n",
            "75%              1.000000            2022-08-26 00:00:00  \n",
            "max              1.000000            2022-10-20 00:00:00  \n",
            "std              0.114594                            NaN  \n",
            "\n",
            "\n",
            "\n"
          ]
        }
      ]
    },
    {
      "cell_type": "markdown",
      "source": [
        "no connection with id's of quizzes, exams and courses, clean data"
      ],
      "metadata": {
        "id": "TFQHS-0JDZGj"
      }
    },
    {
      "cell_type": "markdown",
      "source": [
        "# student_exams"
      ],
      "metadata": {
        "id": "PpGJC9CfDrMs"
      }
    },
    {
      "cell_type": "code",
      "source": [
        "student_exams = read_data(filenames[5])\n",
        "show_data(filenames[5], student_exams)"
      ],
      "metadata": {
        "colab": {
          "base_uri": "https://localhost:8080/"
        },
        "id": "5qt-LNJGy-ag",
        "outputId": "b0c64479-17ab-44c6-ff40-7d9a7263fead"
      },
      "execution_count": null,
      "outputs": [
        {
          "output_type": "stream",
          "name": "stdout",
          "text": [
            "============= File: 365_student_exams =============\n",
            "\n",
            "\n",
            "------------- sample ----------------\n",
            "       exam_attempt_id  student_id  exam_id  exam_result  \\\n",
            "5052            189103      263783      440          100   \n",
            "14004           206582      268926      403           83   \n",
            "32541           237899      282739      696           83   \n",
            "\n",
            "       exam_completion_time date_exam_completed  \n",
            "5052                   0.47          2022-03-09  \n",
            "14004                 21.25          2022-06-14  \n",
            "32541                  7.33          2022-10-13  \n",
            "\n",
            "------------- info ------------------\n",
            "<class 'pandas.core.frame.DataFrame'>\n",
            "RangeIndex: 34030 entries, 0 to 34029\n",
            "Data columns (total 6 columns):\n",
            " #   Column                Non-Null Count  Dtype         \n",
            "---  ------                --------------  -----         \n",
            " 0   exam_attempt_id       34030 non-null  int64         \n",
            " 1   student_id            34030 non-null  int64         \n",
            " 2   exam_id               34030 non-null  int64         \n",
            " 3   exam_result           34030 non-null  int64         \n",
            " 4   exam_completion_time  34030 non-null  float64       \n",
            " 5   date_exam_completed   34030 non-null  datetime64[ns]\n",
            "dtypes: datetime64[ns](1), float64(1), int64(4)\n",
            "memory usage: 1.6 MB\n",
            "None\n",
            "\n",
            "------------- describe --------------\n",
            "       exam_attempt_id     student_id       exam_id   exam_result  \\\n",
            "count     34030.000000   34030.000000  34030.000000  34030.000000   \n",
            "mean     210671.375463  274453.853188    580.310843     71.568998   \n",
            "min      173311.000000  258800.000000     97.000000      0.000000   \n",
            "25%      196154.250000  265056.000000    422.000000     50.000000   \n",
            "50%      211628.500000  274317.000000    596.000000     83.000000   \n",
            "75%      225784.750000  282838.750000    713.000000    100.000000   \n",
            "max      240407.000000  295497.000000    833.000000    100.000000   \n",
            "std       17851.818306   10235.623641    153.200654     28.579781   \n",
            "\n",
            "       exam_completion_time            date_exam_completed  \n",
            "count          34030.000000                          34030  \n",
            "mean               8.522312  2022-06-22 13:47:03.508668672  \n",
            "min                0.070000            2022-01-01 00:00:00  \n",
            "25%                1.030000            2022-04-13 00:00:00  \n",
            "50%                4.225000            2022-07-11 00:00:00  \n",
            "75%               10.000000            2022-08-21 00:00:00  \n",
            "max              198.120000            2022-10-20 00:00:00  \n",
            "std               13.670457                            NaN  \n",
            "\n",
            "\n",
            "\n"
          ]
        }
      ]
    },
    {
      "cell_type": "code",
      "source": [
        "features_plot(student_exams, 'exam_result')"
      ],
      "metadata": {
        "colab": {
          "base_uri": "https://localhost:8080/",
          "height": 1000
        },
        "id": "Kn0wYa4ZzySB",
        "outputId": "2e0aae8b-c99d-464a-f32e-90bd58529f21"
      },
      "execution_count": null,
      "outputs": [
        {
          "output_type": "stream",
          "name": "stdout",
          "text": [
            "100    11004\n",
            "83      6019\n",
            "67      4851\n",
            "50      3763\n",
            "33      2437\n",
            "       ...  \n",
            "55         1\n",
            "52         1\n",
            "81         1\n",
            "95         1\n",
            "36         1\n",
            "Name: exam_result, Length: 76, dtype: int64\n",
            "count    34030.000000\n",
            "mean        71.568998\n",
            "std         28.579781\n",
            "min          0.000000\n",
            "25%         50.000000\n",
            "50%         83.000000\n",
            "75%        100.000000\n",
            "max        100.000000\n",
            "Name: exam_result, dtype: float64\n",
            "Nulls 0\n",
            "Zeros 1264\n",
            "Negatives 0\n"
          ]
        },
        {
          "output_type": "display_data",
          "data": {
            "text/plain": [
              "<Figure size 432x288 with 1 Axes>"
            ],
            "image/png": "[encoded data removed]"
          },
          "metadata": {
            "needs_background": "light"
          }
        },
        {
          "output_type": "display_data",
          "data": {
            "text/plain": [
              "<Figure size 432x288 with 1 Axes>"
            ],
            "image/png": "[encoded data removed]"
          },
          "metadata": {
            "needs_background": "light"
          }
        },
        {
          "output_type": "display_data",
          "data": {
            "text/plain": [
              "<Figure size 432x288 with 1 Axes>"
            ],
            "image/png": "[encoded data removed]"
          },
          "metadata": {
            "needs_background": "light"
          }
        }
      ]
    },
    {
      "cell_type": "code",
      "source": [
        "features_plot(student_exams, 'exam_completion_time')"
      ],
      "metadata": {
        "colab": {
          "base_uri": "https://localhost:8080/",
          "height": 1000
        },
        "id": "c99hPZ7a0Onh",
        "outputId": "76419425-9840-46bc-bd22-4ebd99e13d1f"
      },
      "execution_count": null,
      "outputs": [
        {
          "output_type": "stream",
          "name": "stdout",
          "text": [
            "10.00    369\n",
            "20.00    350\n",
            "25.00    324\n",
            "0.45     300\n",
            "0.47     290\n",
            "        ... \n",
            "75.72      1\n",
            "69.22      1\n",
            "30.05      1\n",
            "50.60      1\n",
            "23.95      1\n",
            "Name: exam_completion_time, Length: 2571, dtype: int64\n",
            "count    34030.000000\n",
            "mean         8.522312\n",
            "std         13.670457\n",
            "min          0.070000\n",
            "25%          1.030000\n",
            "50%          4.225000\n",
            "75%         10.000000\n",
            "max        198.120000\n",
            "Name: exam_completion_time, dtype: float64\n",
            "Nulls 0\n",
            "Zeros 0\n",
            "Negatives 0\n"
          ]
        },
        {
          "output_type": "display_data",
          "data": {
            "text/plain": [
              "<Figure size 432x288 with 1 Axes>"
            ],
            "image/png": "[encoded data removed]"
          },
          "metadata": {
            "needs_background": "light"
          }
        },
        {
          "output_type": "display_data",
          "data": {
            "text/plain": [
              "<Figure size 432x288 with 1 Axes>"
            ],
            "image/png": "[encoded data removed]"
          },
          "metadata": {
            "needs_background": "light"
          }
        },
        {
          "output_type": "display_data",
          "data": {
            "text/plain": [
              "<Figure size 432x288 with 1 Axes>"
            ],
            "image/png": "[encoded data removed]"
          },
          "metadata": {
            "needs_background": "light"
          }
        }
      ]
    },
    {
      "cell_type": "code",
      "source": [
        "features_plot(student_exams, 'date_exam_completed')"
      ],
      "metadata": {
        "colab": {
          "base_uri": "https://localhost:8080/",
          "height": 662
        },
        "id": "rzWrjGsK1LFE",
        "outputId": "8a4d2f93-603f-4961-f7f0-c8b6c2ce2b2d"
      },
      "execution_count": null,
      "outputs": [
        {
          "output_type": "stream",
          "name": "stdout",
          "text": [
            "2022-08-17    1506\n",
            "2022-08-16     878\n",
            "2022-08-15     762\n",
            "2022-08-18     554\n",
            "2022-10-18     280\n",
            "              ... \n",
            "2022-01-05      37\n",
            "2022-01-03      33\n",
            "2022-01-09      25\n",
            "2022-01-01      10\n",
            "2022-01-02       8\n",
            "Name: date_exam_completed, Length: 293, dtype: int64\n",
            "count                            34030\n",
            "mean     2022-06-22 13:47:03.508668672\n",
            "min                2022-01-01 00:00:00\n",
            "25%                2022-04-13 00:00:00\n",
            "50%                2022-07-11 00:00:00\n",
            "75%                2022-08-21 00:00:00\n",
            "max                2022-10-20 00:00:00\n",
            "Name: date_exam_completed, dtype: object\n",
            "Nulls 0\n",
            "Zeros 0\n"
          ]
        },
        {
          "output_type": "display_data",
          "data": {
            "text/plain": [
              "<Figure size 432x288 with 1 Axes>"
            ],
            "image/png": "[encoded data removed]"
          },
          "metadata": {
            "needs_background": "light"
          }
        }
      ]
    },
    {
      "cell_type": "markdown",
      "source": [
        "34030 entries, useful features: exam_results (left-side skewness), exam_completion_time (strong right-side skewness, outliers), date_exam_completed (mode in vacations?). Clean data except for outliers in exam_completion_time"
      ],
      "metadata": {
        "id": "BSwLxBNqEnG6"
      }
    },
    {
      "cell_type": "markdown",
      "source": [
        "# student_hub_questions"
      ],
      "metadata": {
        "id": "IpAYNjEYF7Bk"
      }
    },
    {
      "cell_type": "code",
      "source": [
        "student_hub_questions = read_data(filenames[6])\n",
        "show_data(filenames[6], student_hub_questions)"
      ],
      "metadata": {
        "colab": {
          "base_uri": "https://localhost:8080/"
        },
        "id": "I6E_L6EI2KDZ",
        "outputId": "75cc3319-8ed2-4952-b12e-e811728aa73d"
      },
      "execution_count": null,
      "outputs": [
        {
          "output_type": "stream",
          "name": "stdout",
          "text": [
            "============= File: 365_student_hub_questions =============\n",
            "\n",
            "\n",
            "------------- sample ----------------\n",
            "     hub_question_id  student_id date_question_asked\n",
            "532             9627      260345          2022-08-18\n",
            "697            10055      274861          2022-09-29\n",
            "171             8609      260754          2022-04-13\n",
            "\n",
            "------------- info ------------------\n",
            "<class 'pandas.core.frame.DataFrame'>\n",
            "RangeIndex: 827 entries, 0 to 826\n",
            "Data columns (total 3 columns):\n",
            " #   Column               Non-Null Count  Dtype         \n",
            "---  ------               --------------  -----         \n",
            " 0   hub_question_id      827 non-null    int64         \n",
            " 1   student_id           827 non-null    int64         \n",
            " 2   date_question_asked  827 non-null    datetime64[ns]\n",
            "dtypes: datetime64[ns](1), int64(2)\n",
            "memory usage: 19.5 KB\n",
            "None\n",
            "\n",
            "------------- describe --------------\n",
            "       hub_question_id     student_id            date_question_asked\n",
            "count       827.000000     827.000000                            827\n",
            "mean       9262.725514  272092.505441  2022-07-03 09:24:09.576783616\n",
            "min        7619.000000  258803.000000            2022-01-03 00:00:00\n",
            "25%        8729.500000  264076.000000            2022-04-30 00:00:00\n",
            "50%        9329.000000  271991.000000            2022-07-19 00:00:00\n",
            "75%        9844.500000  277850.000000            2022-09-15 00:00:00\n",
            "max       10407.000000  294330.000000            2022-10-20 00:00:00\n",
            "std         699.746267    8931.633360                            NaN\n",
            "\n",
            "\n",
            "\n"
          ]
        }
      ]
    },
    {
      "cell_type": "code",
      "source": [
        "features_plot(student_hub_questions, 'date_question_asked')"
      ],
      "metadata": {
        "colab": {
          "base_uri": "https://localhost:8080/",
          "height": 662
        },
        "id": "1zGuUjFA2aIQ",
        "outputId": "24fed7eb-2183-4b66-ed03-32e1acfcde66"
      },
      "execution_count": null,
      "outputs": [
        {
          "output_type": "stream",
          "name": "stdout",
          "text": [
            "2022-09-28    17\n",
            "2022-08-16    15\n",
            "2022-10-04    15\n",
            "2022-09-30    13\n",
            "2022-08-24    11\n",
            "              ..\n",
            "2022-08-07     1\n",
            "2022-05-09     1\n",
            "2022-08-01     1\n",
            "2022-07-31     1\n",
            "2022-01-03     1\n",
            "Name: date_question_asked, Length: 249, dtype: int64\n",
            "count                              827\n",
            "mean     2022-07-03 09:24:09.576783616\n",
            "min                2022-01-03 00:00:00\n",
            "25%                2022-04-30 00:00:00\n",
            "50%                2022-07-19 00:00:00\n",
            "75%                2022-09-15 00:00:00\n",
            "max                2022-10-20 00:00:00\n",
            "Name: date_question_asked, dtype: object\n",
            "Nulls 0\n",
            "Zeros 0\n"
          ]
        },
        {
          "output_type": "display_data",
          "data": {
            "text/plain": [
              "<Figure size 432x288 with 1 Axes>"
            ],
            "image/png": "[encoded data removed]"
          },
          "metadata": {
            "needs_background": "light"
          }
        }
      ]
    },
    {
      "cell_type": "markdown",
      "source": [
        "827 entries, useful feature: date_question_asked (growing number), clean data"
      ],
      "metadata": {
        "id": "wQSbb15rGCUi"
      }
    },
    {
      "cell_type": "markdown",
      "source": [
        "# student_info"
      ],
      "metadata": {
        "id": "b9_IoDFcGfKy"
      }
    },
    {
      "cell_type": "code",
      "source": [
        "student_info = read_data(filenames[7])\n",
        "show_data(filenames[7], student_info)"
      ],
      "metadata": {
        "colab": {
          "base_uri": "https://localhost:8080/"
        },
        "id": "AhLcgUkY2-FI",
        "outputId": "666afc03-4186-418d-991d-a57a25b2c3bc"
      },
      "execution_count": null,
      "outputs": [
        {
          "output_type": "stream",
          "name": "stdout",
          "text": [
            "============= File: 365_student_info =============\n",
            "\n",
            "\n",
            "------------- sample ----------------\n",
            "       student_id student_country date_registered\n",
            "19900      279356              SA      2022-06-26\n",
            "8271       267266              TR      2022-03-14\n",
            "17498      276879              BG      2022-06-07\n",
            "\n",
            "------------- info ------------------\n",
            "<class 'pandas.core.frame.DataFrame'>\n",
            "RangeIndex: 35230 entries, 0 to 35229\n",
            "Data columns (total 3 columns):\n",
            " #   Column           Non-Null Count  Dtype         \n",
            "---  ------           --------------  -----         \n",
            " 0   student_id       35230 non-null  int64         \n",
            " 1   student_country  35217 non-null  object        \n",
            " 2   date_registered  35230 non-null  datetime64[ns]\n",
            "dtypes: datetime64[ns](1), int64(1), object(1)\n",
            "memory usage: 825.8+ KB\n",
            "None\n",
            "\n",
            "------------- describe --------------\n",
            "           student_id student_country                date_registered\n",
            "count    35230.000000           35217                          35230\n",
            "unique            NaN             180                            NaN\n",
            "top               NaN              IN                            NaN\n",
            "freq              NaN            6933                            NaN\n",
            "mean    277003.640874             NaN  2022-06-02 10:30:14.408174592\n",
            "min     258798.000000             NaN            2022-01-01 00:00:00\n",
            "25%     267815.250000             NaN            2022-03-18 00:00:00\n",
            "50%     277001.500000             NaN            2022-06-08 00:00:00\n",
            "75%     286075.750000             NaN            2022-08-15 00:00:00\n",
            "max     295515.000000             NaN            2022-10-20 00:00:00\n",
            "std      10556.258459             NaN                            NaN\n",
            "\n",
            "\n",
            "\n"
          ]
        }
      ]
    },
    {
      "cell_type": "code",
      "source": [
        "features_plot(student_info, 'date_registered')"
      ],
      "metadata": {
        "colab": {
          "base_uri": "https://localhost:8080/",
          "height": 662
        },
        "id": "yu7JmtndGziK",
        "outputId": "28bd06f1-d081-4719-a2ac-de9748115e4a"
      },
      "execution_count": null,
      "outputs": [
        {
          "output_type": "stream",
          "name": "stdout",
          "text": [
            "2022-08-15    716\n",
            "2022-08-16    477\n",
            "2022-06-02    431\n",
            "2022-08-17    272\n",
            "2022-08-11    230\n",
            "             ... \n",
            "2022-07-24     69\n",
            "2022-03-25     68\n",
            "2022-09-27     64\n",
            "2022-05-28     60\n",
            "2022-03-26     58\n",
            "Name: date_registered, Length: 293, dtype: int64\n",
            "count                            35230\n",
            "mean     2022-06-02 10:30:14.408174592\n",
            "min                2022-01-01 00:00:00\n",
            "25%                2022-03-18 00:00:00\n",
            "50%                2022-06-08 00:00:00\n",
            "75%                2022-08-15 00:00:00\n",
            "max                2022-10-20 00:00:00\n",
            "Name: date_registered, dtype: object\n",
            "Nulls 0\n",
            "Zeros 0\n"
          ]
        },
        {
          "output_type": "display_data",
          "data": {
            "text/plain": [
              "<Figure size 432x288 with 1 Axes>"
            ],
            "image/png": "[encoded data removed]"
          },
          "metadata": {
            "needs_background": "light"
          }
        }
      ]
    },
    {
      "cell_type": "code",
      "source": [
        "features_plot(student_info, 'student_country')"
      ],
      "metadata": {
        "colab": {
          "base_uri": "https://localhost:8080/"
        },
        "id": "HcP__hGQ3U_f",
        "outputId": "fdfa24d5-e97f-4775-f353-da02b8bc72af"
      },
      "execution_count": null,
      "outputs": [
        {
          "output_type": "stream",
          "name": "stdout",
          "text": [
            "IN    6933\n",
            "US    4768\n",
            "EG    3003\n",
            "GB    1748\n",
            "NG    1718\n",
            "      ... \n",
            "SR       1\n",
            "RE       1\n",
            "BI       1\n",
            "GY       1\n",
            "BM       1\n",
            "Name: student_country, Length: 180, dtype: int64\n",
            "count     35217\n",
            "unique      180\n",
            "top          IN\n",
            "freq       6933\n",
            "Name: student_country, dtype: object\n",
            "Nulls 13\n",
            "Zeros 0\n"
          ]
        }
      ]
    },
    {
      "cell_type": "markdown",
      "source": [
        "35230 entries, useful feature: date_registered (growing number, mode in vacations?), clean data (except for country, but this feature will not affect the model)"
      ],
      "metadata": {
        "id": "STMg41YHIF7p"
      }
    },
    {
      "cell_type": "markdown",
      "source": [
        "# student_learning"
      ],
      "metadata": {
        "id": "kiCAhRzzIbZ_"
      }
    },
    {
      "cell_type": "code",
      "source": [
        "student_learning = read_data(filenames[8])\n",
        "show_data(filenames[8], student_learning)"
      ],
      "metadata": {
        "colab": {
          "base_uri": "https://localhost:8080/"
        },
        "id": "f4mk-iZK5l8n",
        "outputId": "facc3bfc-c7ea-4d72-8673-315c5984ca3a"
      },
      "execution_count": null,
      "outputs": [
        {
          "output_type": "stream",
          "name": "stdout",
          "text": [
            "============= File: 365_student_learning =============\n",
            "\n",
            "\n",
            "------------- sample ----------------\n",
            "       student_id  course_id  minutes_watched date_watched\n",
            "20485      266862          3             30.6   2022-03-11\n",
            "2244       259767          5             29.0   2022-07-11\n",
            "52895      284797          7             41.4   2022-08-11\n",
            "\n",
            "------------- info ------------------\n",
            "<class 'pandas.core.frame.DataFrame'>\n",
            "RangeIndex: 64535 entries, 0 to 64534\n",
            "Data columns (total 4 columns):\n",
            " #   Column           Non-Null Count  Dtype         \n",
            "---  ------           --------------  -----         \n",
            " 0   student_id       64535 non-null  int64         \n",
            " 1   course_id        64535 non-null  int64         \n",
            " 2   minutes_watched  64535 non-null  float64       \n",
            " 3   date_watched     64535 non-null  datetime64[ns]\n",
            "dtypes: datetime64[ns](1), float64(1), int64(2)\n",
            "memory usage: 2.0 MB\n",
            "None\n",
            "\n",
            "------------- describe --------------\n",
            "          student_id     course_id  minutes_watched  \\\n",
            "count   64535.000000  64535.000000     64535.000000   \n",
            "mean   273911.685148     19.297281        28.545392   \n",
            "min    258798.000000      2.000000         0.000000   \n",
            "25%    264688.500000      7.000000         3.800000   \n",
            "50%    272570.000000     16.000000        15.900000   \n",
            "75%    282305.500000     24.000000        38.100000   \n",
            "max    295513.000000     67.000000      1710.600000   \n",
            "std     10282.729746     12.464339        40.580553   \n",
            "\n",
            "                        date_watched  \n",
            "count                          64535  \n",
            "mean   2022-06-18 19:32:59.818703104  \n",
            "min              2022-01-01 00:00:00  \n",
            "25%              2022-04-10 00:00:00  \n",
            "50%              2022-06-29 00:00:00  \n",
            "75%              2022-08-26 00:00:00  \n",
            "max              2022-10-20 00:00:00  \n",
            "std                              NaN  \n",
            "\n",
            "\n",
            "\n"
          ]
        }
      ]
    },
    {
      "cell_type": "code",
      "source": [
        "features_plot(student_learning, 'minutes_watched')"
      ],
      "metadata": {
        "colab": {
          "base_uri": "https://localhost:8080/",
          "height": 1000
        },
        "id": "5OCCMUMj56bP",
        "outputId": "0393f041-8f0c-4f1f-e1c7-b78e73bc69bc"
      },
      "execution_count": null,
      "outputs": [
        {
          "output_type": "stream",
          "name": "stdout",
          "text": [
            "0.1      2610\n",
            "0.2      1407\n",
            "0.3      1025\n",
            "0.4       870\n",
            "0.5       682\n",
            "         ... \n",
            "149.6       1\n",
            "172.8       1\n",
            "162.8       1\n",
            "213.0       1\n",
            "214.6       1\n",
            "Name: minutes_watched, Length: 2215, dtype: int64\n",
            "count    64535.000000\n",
            "mean        28.545392\n",
            "std         40.580553\n",
            "min          0.000000\n",
            "25%          3.800000\n",
            "50%         15.900000\n",
            "75%         38.100000\n",
            "max       1710.600000\n",
            "Name: minutes_watched, dtype: float64\n",
            "Nulls 0\n",
            "Zeros 3\n",
            "Negatives 0\n"
          ]
        },
        {
          "output_type": "display_data",
          "data": {
            "text/plain": [
              "<Figure size 432x288 with 1 Axes>"
            ],
            "image/png": "[encoded data removed]"
          },
          "metadata": {
            "needs_background": "light"
          }
        },
        {
          "output_type": "display_data",
          "data": {
            "text/plain": [
              "<Figure size 432x288 with 1 Axes>"
            ],
            "image/png": "[encoded data removed]"
          },
          "metadata": {
            "needs_background": "light"
          }
        },
        {
          "output_type": "display_data",
          "data": {
            "text/plain": [
              "<Figure size 432x288 with 1 Axes>"
            ],
            "image/png": "[encoded data removed]"
          },
          "metadata": {
            "needs_background": "light"
          }
        }
      ]
    },
    {
      "cell_type": "code",
      "source": [
        "features_plot(student_learning, 'date_watched')"
      ],
      "metadata": {
        "colab": {
          "base_uri": "https://localhost:8080/",
          "height": 662
        },
        "id": "Eg0sYH3s6rN2",
        "outputId": "1e59f2ce-b5ba-4d28-e611-83b385b84251"
      },
      "execution_count": null,
      "outputs": [
        {
          "output_type": "stream",
          "name": "stdout",
          "text": [
            "2022-08-16    795\n",
            "2022-08-15    794\n",
            "2022-08-17    718\n",
            "2022-08-18    565\n",
            "2022-10-10    396\n",
            "             ... \n",
            "2022-01-07     85\n",
            "2022-01-04     84\n",
            "2022-01-09     83\n",
            "2022-01-02     74\n",
            "2022-01-01     55\n",
            "Name: date_watched, Length: 293, dtype: int64\n",
            "count                            64535\n",
            "mean     2022-06-18 19:32:59.818703104\n",
            "min                2022-01-01 00:00:00\n",
            "25%                2022-04-10 00:00:00\n",
            "50%                2022-06-29 00:00:00\n",
            "75%                2022-08-26 00:00:00\n",
            "max                2022-10-20 00:00:00\n",
            "Name: date_watched, dtype: object\n",
            "Nulls 0\n",
            "Zeros 0\n"
          ]
        },
        {
          "output_type": "display_data",
          "data": {
            "text/plain": [
              "<Figure size 432x288 with 1 Axes>"
            ],
            "image/png": "[encoded data removed]"
          },
          "metadata": {
            "needs_background": "light"
          }
        }
      ]
    },
    {
      "cell_type": "markdown",
      "source": [
        "64535 entries, useful features: minutes_watched (strong right-side skewness, outliers), date_watched (growing number, mode in vacations?). clean data except for the outliers in minutes_watched"
      ],
      "metadata": {
        "id": "rhLz6jRSJE-x"
      }
    },
    {
      "cell_type": "markdown",
      "source": [
        "# student_purchases"
      ],
      "metadata": {
        "id": "4hMh4sIfJ0_S"
      }
    },
    {
      "cell_type": "code",
      "source": [
        "student_purchases = read_data(filenames[9])\n",
        "show_data(filenames[9], student_purchases)"
      ],
      "metadata": {
        "colab": {
          "base_uri": "https://localhost:8080/"
        },
        "id": "8_-0x36U7Gdu",
        "outputId": "45820084-fee6-4b70-a5cc-e8eb1929e5c7"
      },
      "execution_count": null,
      "outputs": [
        {
          "output_type": "stream",
          "name": "stdout",
          "text": [
            "============= File: 365_student_purchases =============\n",
            "\n",
            "\n",
            "------------- sample ----------------\n",
            "      purchase_id  student_id purchase_type date_purchased\n",
            "2462        22019      283414       Monthly     2022-09-01\n",
            "2800        22692      292585        Annual     2022-09-29\n",
            "2372        21783      285915       Monthly     2022-08-22\n",
            "\n",
            "------------- info ------------------\n",
            "<class 'pandas.core.frame.DataFrame'>\n",
            "RangeIndex: 3041 entries, 0 to 3040\n",
            "Data columns (total 4 columns):\n",
            " #   Column          Non-Null Count  Dtype         \n",
            "---  ------          --------------  -----         \n",
            " 0   purchase_id     3041 non-null   int64         \n",
            " 1   student_id      3041 non-null   int64         \n",
            " 2   purchase_type   3041 non-null   object        \n",
            " 3   date_purchased  3041 non-null   datetime64[ns]\n",
            "dtypes: datetime64[ns](1), int64(2), object(1)\n",
            "memory usage: 95.2+ KB\n",
            "None\n",
            "\n",
            "------------- describe --------------\n",
            "         purchase_id     student_id purchase_type  \\\n",
            "count    3041.000000    3041.000000          3041   \n",
            "unique           NaN            NaN             3   \n",
            "top              NaN            NaN        Annual   \n",
            "freq             NaN            NaN          1547   \n",
            "mean    19819.630385  273264.261756           NaN   \n",
            "min     15781.000000  258800.000000           NaN   \n",
            "25%     18085.000000  264761.000000           NaN   \n",
            "50%     19975.000000  271388.000000           NaN   \n",
            "75%     21600.000000  280834.000000           NaN   \n",
            "max     23153.000000  295506.000000           NaN   \n",
            "std      2082.218830    9891.354140           NaN   \n",
            "\n",
            "                       date_purchased  \n",
            "count                            3041  \n",
            "unique                            NaN  \n",
            "top                               NaN  \n",
            "freq                              NaN  \n",
            "mean    2022-06-05 08:59:20.933903360  \n",
            "min               2022-01-01 00:00:00  \n",
            "25%               2022-03-30 00:00:00  \n",
            "50%               2022-06-05 00:00:00  \n",
            "75%               2022-08-13 00:00:00  \n",
            "max               2022-10-20 00:00:00  \n",
            "std                               NaN  \n",
            "\n",
            "\n",
            "\n"
          ]
        }
      ]
    },
    {
      "cell_type": "code",
      "source": [
        "features_plot(student_purchases, 'purchase_type')"
      ],
      "metadata": {
        "colab": {
          "base_uri": "https://localhost:8080/"
        },
        "id": "Fso5-odg753m",
        "outputId": "cd1aab97-aaa5-46ae-e9bf-0ef5dc539e97"
      },
      "execution_count": null,
      "outputs": [
        {
          "output_type": "stream",
          "name": "stdout",
          "text": [
            "Annual       1547\n",
            "Monthly      1444\n",
            "Quarterly      50\n",
            "Name: purchase_type, dtype: int64\n",
            "count       3041\n",
            "unique         3\n",
            "top       Annual\n",
            "freq        1547\n",
            "Name: purchase_type, dtype: object\n",
            "Nulls 0\n",
            "Zeros 0\n"
          ]
        }
      ]
    },
    {
      "cell_type": "code",
      "source": [
        "features_plot(student_purchases, 'date_purchased')"
      ],
      "metadata": {
        "colab": {
          "base_uri": "https://localhost:8080/",
          "height": 662
        },
        "id": "yYbuhEy_8KUI",
        "outputId": "81ebf34f-9fc1-42a1-b88c-89687dad88eb"
      },
      "execution_count": null,
      "outputs": [
        {
          "output_type": "stream",
          "name": "stdout",
          "text": [
            "2022-05-31    45\n",
            "2022-09-29    41\n",
            "2022-07-26    40\n",
            "2022-06-01    38\n",
            "2022-03-30    36\n",
            "              ..\n",
            "2022-09-11     3\n",
            "2022-09-03     2\n",
            "2022-05-02     2\n",
            "2022-01-30     1\n",
            "2022-01-29     1\n",
            "Name: date_purchased, Length: 293, dtype: int64\n",
            "count                             3041\n",
            "mean     2022-06-05 08:59:20.933903360\n",
            "min                2022-01-01 00:00:00\n",
            "25%                2022-03-30 00:00:00\n",
            "50%                2022-06-05 00:00:00\n",
            "75%                2022-08-13 00:00:00\n",
            "max                2022-10-20 00:00:00\n",
            "Name: date_purchased, dtype: object\n",
            "Nulls 0\n",
            "Zeros 0\n"
          ]
        },
        {
          "output_type": "display_data",
          "data": {
            "text/plain": [
              "<Figure size 432x288 with 1 Axes>"
            ],
            "image/png": "[encoded data removed]"
          },
          "metadata": {
            "needs_background": "light"
          }
        }
      ]
    },
    {
      "cell_type": "markdown",
      "source": [
        "3041 entries, purchase_type is outside of the scope, useful feature: date_purchased (cyclical - depends on events?), clean data"
      ],
      "metadata": {
        "id": "RmPeXoliKQZA"
      }
    },
    {
      "cell_type": "markdown",
      "source": [
        "# student_quizzes"
      ],
      "metadata": {
        "id": "55XMOTSyLEc4"
      }
    },
    {
      "cell_type": "code",
      "source": [
        "student_quizzes = read_data(filenames[10])\n",
        "show_data(filenames[10], student_quizzes)"
      ],
      "metadata": {
        "colab": {
          "base_uri": "https://localhost:8080/"
        },
        "id": "fMB6aZX88T9-",
        "outputId": "d973d26e-df63-4ea8-eb63-19e23233531a"
      },
      "execution_count": null,
      "outputs": [
        {
          "output_type": "stream",
          "name": "stdout",
          "text": [
            "============= File: 365_student_quizzes =============\n",
            "\n",
            "\n",
            "------------- sample ----------------\n",
            "        student_id  quiz_id  question_id  answer_id\n",
            "141102      280644      546         1048     4140.0\n",
            "91104       260861      295          420     1661.0\n",
            "56527       274267      400          587     2278.0\n",
            "\n",
            "------------- info ------------------\n",
            "<class 'pandas.core.frame.DataFrame'>\n",
            "RangeIndex: 147029 entries, 0 to 147028\n",
            "Data columns (total 4 columns):\n",
            " #   Column       Non-Null Count   Dtype  \n",
            "---  ------       --------------   -----  \n",
            " 0   student_id   147029 non-null  int64  \n",
            " 1   quiz_id      147029 non-null  int64  \n",
            " 2   question_id  147029 non-null  int64  \n",
            " 3   answer_id    146800 non-null  float64\n",
            "dtypes: float64(1), int64(3)\n",
            "memory usage: 4.5 MB\n",
            "None\n",
            "\n",
            "------------- describe --------------\n",
            "          student_id        quiz_id    question_id      answer_id\n",
            "count  147029.000000  147029.000000  147029.000000  146800.000000\n",
            "mean   274241.378864     302.003999     665.227323    2613.594149\n",
            "std     10307.934123     171.321666     332.993413    1298.666048\n",
            "min    258800.000000      21.000000      22.000000      85.000000\n",
            "25%    264826.000000     170.000000     360.000000    1420.000000\n",
            "50%    273371.000000     270.000000     783.000000    3087.000000\n",
            "75%    282601.000000     486.000000     827.000000    3267.000000\n",
            "max    295513.000000     580.000000    1258.000000    4755.000000\n",
            "\n",
            "\n",
            "\n"
          ]
        }
      ]
    },
    {
      "cell_type": "code",
      "source": [
        "features_plot(student_quizzes, 'answer_id')"
      ],
      "metadata": {
        "colab": {
          "base_uri": "https://localhost:8080/",
          "height": 1000
        },
        "id": "0Dm_vhTTLzuH",
        "outputId": "60e648da-1a9a-4c5c-ae40-a92e2d9dfa79"
      },
      "execution_count": null,
      "outputs": [
        {
          "output_type": "stream",
          "name": "stdout",
          "text": [
            "3139.0    4618\n",
            "3095.0    4136\n",
            "3080.0    3319\n",
            "3078.0    3266\n",
            "3087.0    3181\n",
            "          ... \n",
            "1169.0       1\n",
            "4632.0       1\n",
            "4623.0       1\n",
            "4608.0       1\n",
            "3806.0       1\n",
            "Name: answer_id, Length: 1882, dtype: int64\n",
            "count    146800.000000\n",
            "mean       2613.594149\n",
            "std        1298.666048\n",
            "min          85.000000\n",
            "25%        1420.000000\n",
            "50%        3087.000000\n",
            "75%        3267.000000\n",
            "max        4755.000000\n",
            "Name: answer_id, dtype: float64\n",
            "Nulls 229\n",
            "Zeros 0\n",
            "Negatives 0\n"
          ]
        },
        {
          "output_type": "display_data",
          "data": {
            "text/plain": [
              "<Figure size 432x288 with 1 Axes>"
            ],
            "image/png": "[encoded data removed]"
          },
          "metadata": {
            "needs_background": "light"
          }
        },
        {
          "output_type": "display_data",
          "data": {
            "text/plain": [
              "<Figure size 432x288 with 1 Axes>"
            ],
            "image/png": "[encoded data removed]"
          },
          "metadata": {
            "needs_background": "light"
          }
        },
        {
          "output_type": "stream",
          "name": "stderr",
          "text": [
            "/usr/local/lib/python3.7/dist-packages/numpy/linalg/linalg.py:2158: RuntimeWarning: invalid value encountered in det\n",
            "  r = _umath_linalg.det(a, signature=signature)\n"
          ]
        },
        {
          "output_type": "display_data",
          "data": {
            "text/plain": [
              "<Figure size 432x288 with 1 Axes>"
            ],
            "image/png": "[encoded data removed]"
          },
          "metadata": {
            "needs_background": "light"
          }
        }
      ]
    },
    {
      "cell_type": "markdown",
      "source": [
        "147029 entries, dataset needed only to calculate student results. Clean data except for answer_id (229 nulls and type float instead of int)"
      ],
      "metadata": {
        "id": "aoReCINXLaEo"
      }
    }
  ]
}